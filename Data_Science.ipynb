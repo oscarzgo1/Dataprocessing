{
 "cells": [
  {
   "cell_type": "markdown",
   "metadata": {},
   "source": [
    "# Visualizing Housing Market Data\n",
    "\n",
    "This example demonstrates how to visualize housing market data using Python's `matplotlib` library.\n",
    "\n",
    "## Data Description\n",
    "\n",
    "The dataset includes information on median housing prices and sales volume for different housing markets. Here's a brief overview of the data:\n",
    "\n",
    "- **Housing Markets**: A list of market names denoted by 'Market A' to 'Market E'.\n",
    "- **Median Housing Prices**: Median housing prices (in dollars) for each market.\n",
    "- **Housing Sales Volume**: Sales volume for each market.\n",
    "\n",
    "## Visualization\n",
    "\n",
    "### Median Housing Prices\n",
    "\n",
    "We begin by plotting a bar chart to visualize the median housing prices in different markets.\n",
    "\n",
    "```python\n",
    "import matplotlib.pyplot as plt\n",
    "\n",
    "# Example data (you need to replace this with your own data)\n",
    "housing_markets = ['Market A', 'Market B', 'Market C', 'Market D', 'Market E']\n",
    "housing_prices = [500000, 600000, 450000, 700000, 550000]  # Median housing prices for each market\n",
    "\n",
    "# Plotting the bar chart for median housing prices\n",
    "plt.figure(figsize=(10, 6))\n",
    "plt.bar(housing_markets, housing_prices, color='skyblue')\n",
    "plt.xlabel('Housing Markets')\n",
    "plt.ylabel('Median Housing Prices ($)')\n",
    "plt.title('Median Housing Prices in Different Markets')\n",
    "plt.xticks(rotation=45)\n",
    "plt.tight_layout()\n",
    "plt.show()\n"
   ]
  },
  {
   "cell_type": "code",
   "execution_count": null,
   "metadata": {},
   "outputs": [],
   "source": [
    "import matplotlib.pyplot as plt\n",
    "\n",
    "# Example data (you need to replace this with your own data)\n",
    "housing_markets = ['Market A', 'Market B', 'Market C', 'Market D', 'Market E']\n",
    "housing_prices = [500000, 600000, 450000, 700000, 550000]  # Median housing prices for each market\n",
    "housing_sales_volume = [100, 120, 90, 150, 110]  # Sales volume for each market\n",
    "\n",
    "# Plotting the bar chart for median housing prices\n",
    "plt.figure(figsize=(10, 6))\n",
    "plt.bar(housing_markets, housing_prices, color='skyblue')\n",
    "plt.xlabel('Housing Markets')\n",
    "plt.ylabel('Median Housing Prices ($)')\n",
    "plt.title('Median Housing Prices in Different Markets')\n",
    "plt.xticks(rotation=45)\n",
    "plt.tight_layout()\n",
    "plt.show()\n",
    "\n",
    "# Plotting the bar chart for housing sales volume\n",
    "plt.figure(figsize=(10, 6))\n",
    "plt.bar(housing_markets, housing_sales_volume, color='red')\n",
    "plt.xlabel('Housing Markets')\n",
    "plt.ylabel('Sales Volume')\n",
    "plt.title('Housing Sales Volume in Different Markets')\n",
    "plt.xticks(rotation=45)\n",
    "plt.tight_layout()\n",
    "plt.show()\n"
   ]
  }
 ],
 "metadata": {
  "kernelspec": {
   "display_name": "Python 3.10",
   "language": "python",
   "name": "python3"
  },
  "language_info": {
   "codemirror_mode": {
    "name": "ipython",
    "version": 3
   },
   "file_extension": ".py",
   "mimetype": "text/x-python",
   "name": "python",
   "nbconvert_exporter": "python",
   "pygments_lexer": "ipython3",
   "version": "3.10.13"
  }
 },
 "nbformat": 4,
 "nbformat_minor": 1
}
